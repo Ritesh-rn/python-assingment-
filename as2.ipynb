{
 "cells": [
  {
   "cell_type": "code",
   "execution_count": 1,
   "id": "77dfdb54-f897-49c8-9ebc-6f8a610ece28",
   "metadata": {},
   "outputs": [
    {
     "name": "stdin",
     "output_type": "stream",
     "text": [
      "Enter an integer: 987\n"
     ]
    },
    {
     "name": "stdout",
     "output_type": "stream",
     "text": [
      "987is odd.\n"
     ]
    }
   ],
   "source": [
    "# task 1: check if a number is Even or odd\n",
    "# step1: take an integer input from the user \n",
    "number = int(input(\"Enter an integer:\"))\n",
    "#step2: check if the number is even or odd using if and else \n",
    "if number % 2==0:\n",
    "    print(f\"{number}is even.\")\n",
    "\n",
    "else:\n",
    "    print(f\"{number}is odd.\")"
   ]
  },
  {
   "cell_type": "code",
   "execution_count": 2,
   "id": "c7d0ec4e-c7fb-4cb9-9634-7b8f2b7ebe1f",
   "metadata": {},
   "outputs": [
    {
     "name": "stdout",
     "output_type": "stream",
     "text": [
      "\n"
     ]
    }
   ],
   "source": [
    "total_sum=0\n",
    "#use a for loop to iterate from 1 to 50\n",
    "for i in range(1,51):\n",
    "    total_sum +=i\n",
    "\n",
    "#Display the final sum\n",
    "print(\"The sum of integers from 1 to 50 is:\",total_sum)"
   ]
  },
  {
   "cell_type": "code",
   "execution_count": null,
   "id": "8608020e-420f-42fd-83f7-5ffe7436eee2",
   "metadata": {},
   "outputs": [],
   "source": []
  }
 ],
 "metadata": {
  "kernelspec": {
   "display_name": "Python 3 (ipykernel)",
   "language": "python",
   "name": "python3"
  },
  "language_info": {
   "codemirror_mode": {
    "name": "ipython",
    "version": 3
   },
   "file_extension": ".py",
   "mimetype": "text/x-python",
   "name": "python",
   "nbconvert_exporter": "python",
   "pygments_lexer": "ipython3",
   "version": "3.12.7"
  }
 },
 "nbformat": 4,
 "nbformat_minor": 5
}
