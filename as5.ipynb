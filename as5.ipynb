{
 "cells": [
  {
   "cell_type": "code",
   "execution_count": 9,
   "id": "ba9478fc-f750-468f-a8cb-7cbab301050d",
   "metadata": {},
   "outputs": [
    {
     "name": "stdin",
     "output_type": "stream",
     "text": [
      "Enter the student's name: ritesh\n"
     ]
    },
    {
     "name": "stdout",
     "output_type": "stream",
     "text": [
      "ritesh marks:93\n"
     ]
    }
   ],
   "source": [
    "# create a dictionary with student names and their marks\n",
    "student_marks={\n",
    "    \"ritesh\":93,\n",
    "    \"arvind\":92,\n",
    "    \"atul\":85\n",
    "}\n",
    "#step 2: ask user to input a student's name\n",
    "student_name=input(\"Enter the student's name:\")\n",
    "#step 3: retrieve and display marks or show not found message\n",
    "if student_name in student_marks:\n",
    "    print(f\"{student_name} marks:{student_marks[student_name]}\")\n",
    "else:\n",
    "    print(\"student not found.\")"
   ]
  },
  {
   "cell_type": "code",
   "execution_count": 10,
   "id": "e60e266b-329c-4c0f-9563-6baea9d93e0d",
   "metadata": {},
   "outputs": [
    {
     "name": "stdout",
     "output_type": "stream",
     "text": [
      "Extracted list: [1, 2, 3, 4, 5]\n",
      "Reversed list: [5, 4, 3, 2, 1]\n"
     ]
    }
   ],
   "source": [
    "#step1: create a list of numbers from 1 to 10\n",
    "numbers=list(range(1,11))\n",
    "#step 2: Extract the first five elements\n",
    "first_five=numbers[:5]\n",
    "#step 3:reverse the extracted elements\n",
    "reversed_first_five=first_five[::-1]\n",
    "#step 4: print the extracted list and the reversed list\n",
    "print(\"Extracted list:\",first_five)\n",
    "print(\"Reversed list:\",reversed_first_five)"
   ]
  },
  {
   "cell_type": "code",
   "execution_count": null,
   "id": "1c382a68-07da-4092-a23f-9af56075f60a",
   "metadata": {},
   "outputs": [],
   "source": []
  }
 ],
 "metadata": {
  "kernelspec": {
   "display_name": "Python 3 (ipykernel)",
   "language": "python",
   "name": "python3"
  },
  "language_info": {
   "codemirror_mode": {
    "name": "ipython",
    "version": 3
   },
   "file_extension": ".py",
   "mimetype": "text/x-python",
   "name": "python",
   "nbconvert_exporter": "python",
   "pygments_lexer": "ipython3",
   "version": "3.12.7"
  }
 },
 "nbformat": 4,
 "nbformat_minor": 5
}
