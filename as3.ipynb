{
 "cells": [
  {
   "cell_type": "code",
   "execution_count": 5,
   "id": "d18ab30e-c2aa-49c9-a524-ed28f4e070b8",
   "metadata": {},
   "outputs": [
    {
     "name": "stdout",
     "output_type": "stream",
     "text": [
      "Factorial of 6 is: 720\n"
     ]
    }
   ],
   "source": [
    "# Function to calculte factorial using a loop\n",
    "def factorial(n):\n",
    "    result=1\n",
    "    for i in range(1,n+1):\n",
    "        result *=i\n",
    "        \n",
    "    return result \n",
    "#sample number to test\n",
    "sample_number=6\n",
    "#call the function and print the result\n",
    "print(\"Factorial of\",sample_number,\"is:\",factorial(sample_number))\n"
   ]
  },
  {
   "cell_type": "code",
   "execution_count": 10,
   "id": "afa650ed-c287-4ed9-adc7-2a959daed928",
   "metadata": {},
   "outputs": [
    {
     "name": "stdin",
     "output_type": "stream",
     "text": [
      "Enter a number: 78\n"
     ]
    },
    {
     "name": "stdout",
     "output_type": "stream",
     "text": [
      "square root:8.8\n",
      "Natural log:4.3567\n",
      "sine(radians):0.5140\n"
     ]
    }
   ],
   "source": [
    "import math\n",
    "num = float(input(\"Enter a number:\"))\n",
    "#perform colculations\n",
    "square_root = math.sqrt(num)\n",
    "natural_log = math.log(num)\n",
    "sine_value = math.sin(num)\n",
    "#Display results\n",
    "print(\"square root:{:.1f}\".format(square_root))\n",
    "print(\"Natural log:{:.4f}\".format(natural_log))\n",
    "print(\"sine(radians):{:.4f}\".format(sine_value))"
   ]
  }
 ],
 "metadata": {
  "kernelspec": {
   "display_name": "Python 3 (ipykernel)",
   "language": "python",
   "name": "python3"
  },
  "language_info": {
   "codemirror_mode": {
    "name": "ipython",
    "version": 3
   },
   "file_extension": ".py",
   "mimetype": "text/x-python",
   "name": "python",
   "nbconvert_exporter": "python",
   "pygments_lexer": "ipython3",
   "version": "3.12.7"
  }
 },
 "nbformat": 4,
 "nbformat_minor": 5
}
