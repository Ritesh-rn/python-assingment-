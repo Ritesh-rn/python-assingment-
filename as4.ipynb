{
 "cells": [
  {
   "cell_type": "code",
   "execution_count": 3,
   "id": "a58c7d15-87e9-4913-9a44-bde52149f558",
   "metadata": {},
   "outputs": [
    {
     "name": "stdout",
     "output_type": "stream",
     "text": [
      "Error: The file 'sample.txt' was not found.\n"
     ]
    }
   ],
   "source": [
    "def read_file(filename):\n",
    "    try:\n",
    "        with open(filename, 'r') as file:\n",
    "            print(\"Reading file content:\")\n",
    "            for i, line in enumerate(file, start=1):\n",
    "                print(f\"Line {i}: {line.strip()}\")\n",
    "    except FileNotFoundError:\n",
    "        print(f\"Error: The file '{filename}' was not found.\")\n",
    "\n",
    "# Call the function\n",
    "read_file(\"sample.txt\")\n"
   ]
  },
  {
   "cell_type": "code",
   "execution_count": null,
   "id": "43ebc075-f720-4c7b-a531-96663b7d8136",
   "metadata": {},
   "outputs": [],
   "source": [
    "# Step 1: Take user input and write to the file\n",
    "text_to_write = input(\"Enter text to write to the file: \")\n",
    "with open(\"output.txt\", \"w\") as file:\n",
    "    file.write(text_to_write + \"\\n\")\n",
    "print(\"Data successfully written to output.txt.\")\n",
    "\n",
    "# Step 2: Take additional input and append to the file\n",
    "text_to_append = input(\"\\nEnter additional text to append: \")\n",
    "with open(\"output.txt\", \"a\") as file:\n",
    "    file.write(text_to_append + \"\\n\")\n",
    "print(\"Data successfully appended.\")\n",
    "\n",
    "# Step 3: Read and display the final content of the file\n",
    "print(\"\\nFinal content of output.txt:\")\n",
    "with open(\"output.txt\", \"r\") as file:\n",
    "    content = file.read()\n",
    "    print(content)\n"
   ]
  },
  {
   "cell_type": "code",
   "execution_count": 6,
   "id": "377735e9-f6d1-4e0b-b7dc-5475d977d452",
   "metadata": {},
   "outputs": [
    {
     "name": "stdin",
     "output_type": "stream",
     "text": [
      "Enter some text to write to the file:  output.txt\n",
      "Enter additional text to append to the file:  output.txt\n"
     ]
    },
    {
     "name": "stdout",
     "output_type": "stream",
     "text": [
      "\n",
      "Final content of the file:\n",
      "output.txt\n",
      "output.txt\n",
      "\n"
     ]
    }
   ],
   "source": [
    "def write_and_append_to_file(file_name):\n",
    "    # Take user input\n",
    "    user_input = input(\"Enter some text to write to the file: \")\n",
    "    \n",
    "    # Write user input to the file\n",
    "    with open(file_name, 'w') as file:\n",
    "        file.write(user_input + '\\n')  # Write input followed by a newline\n",
    "\n",
    "    # Append additional data to the file\n",
    "    additional_data = input(\"Enter additional text to append to the file: \")\n",
    "    with open(file_name, 'a') as file:\n",
    "        file.write(additional_data + '\\n')  # Append input followed by a newline\n",
    "\n",
    "    # Read and display the final content of the file\n",
    "    print(\"\\nFinal content of the file:\")\n",
    "    with open(file_name, 'r') as file:\n",
    "        content = file.read()\n",
    "        print(content)\n",
    "\n",
    "# Specify the file name\n",
    "file_name = 'output.txt'\n",
    "write_and_append_to_file(file_name)\n"
   ]
  }
 ],
 "metadata": {
  "kernelspec": {
   "display_name": "Python 3 (ipykernel)",
   "language": "python",
   "name": "python3"
  },
  "language_info": {
   "codemirror_mode": {
    "name": "ipython",
    "version": 3
   },
   "file_extension": ".py",
   "mimetype": "text/x-python",
   "name": "python",
   "nbconvert_exporter": "python",
   "pygments_lexer": "ipython3",
   "version": "3.12.7"
  }
 },
 "nbformat": 4,
 "nbformat_minor": 5
}
