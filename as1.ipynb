{
 "cells": [
  {
   "cell_type": "code",
   "execution_count": 2,
   "id": "a48b5f1e-7795-4ef8-949a-bf68ad9c494e",
   "metadata": {},
   "outputs": [
    {
     "name": "stdin",
     "output_type": "stream",
     "text": [
      "Enter the first number:  45\n",
      "Enter the second number:  80\n"
     ]
    },
    {
     "name": "stdout",
     "output_type": "stream",
     "text": [
      "\n",
      "Results:\n",
      "45.0 + 80.0 = 125.0\n",
      "45.0 - 80.0 = -35.0\n",
      "45.0 * 80.0 = 3600.0\n",
      "45.0 / 80.0 = 0.5625\n"
     ]
    }
   ],
   "source": [
    "# Program to perform basic mathematical operations\n",
    "\n",
    "# Prompt user for two numbers\n",
    "num1 = float(input(\"Enter the first number: \"))\n",
    "num2 = float(input(\"Enter the second number: \"))\n",
    "\n",
    "# Perform operations\n",
    "addition       = num1 + num2\n",
    "subtraction    = num1 - num2\n",
    "multiplication = num1 * num2\n",
    "# Handle division by zero gracefully\n",
    "if num2 != 0:\n",
    "    division   = num1 / num2\n",
    "else:\n",
    "    division   = None\n",
    "\n",
    "# Display results\n",
    "print(f\"\\nResults:\")\n",
    "print(f\"{num1} + {num2} = {addition}\")\n",
    "print(f\"{num1} - {num2} = {subtraction}\")\n",
    "print(f\"{num1} * {num2} = {multiplication}\")\n",
    "if division is not None:\n",
    "    print(f\"{num1} / {num2} = {division}\")\n",
    "else:\n",
    "    print(\"Division by zero is not allowed.\")"
   ]
  },
  {
   "cell_type": "code",
   "execution_count": 3,
   "id": "a3b93516-2292-4789-81cf-f9a71cf2f3f2",
   "metadata": {},
   "outputs": [
    {
     "name": "stdin",
     "output_type": "stream",
     "text": [
      "Enter your first name: Ritesh\n",
      "Enter your last name: Dawande\n"
     ]
    },
    {
     "name": "stdout",
     "output_type": "stream",
     "text": [
      "\n",
      "Hellow,Ritesh Dawande!welcome to the python program. \n"
     ]
    }
   ],
   "source": [
    "#step1: take first name and last name as input\n",
    "firstname=input(\"Enter your first name:\")\n",
    "lastname=input(\"Enter your last name:\")\n",
    "#step2: concatenate to form full name\n",
    "fullname= firstname+\" \"+ lastname\n",
    "#step3: print a personalized greeting message\n",
    "print(f\"\\nHellow,{fullname}!welcome to the python program. \")"
   ]
  }
 ],
 "metadata": {
  "kernelspec": {
   "display_name": "Python 3 (ipykernel)",
   "language": "python",
   "name": "python3"
  },
  "language_info": {
   "codemirror_mode": {
    "name": "ipython",
    "version": 3
   },
   "file_extension": ".py",
   "mimetype": "text/x-python",
   "name": "python",
   "nbconvert_exporter": "python",
   "pygments_lexer": "ipython3",
   "version": "3.12.7"
  }
 },
 "nbformat": 4,
 "nbformat_minor": 5
}
